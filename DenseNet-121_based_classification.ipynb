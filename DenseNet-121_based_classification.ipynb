{
  "nbformat": 4,
  "nbformat_minor": 0,
  "metadata": {
    "colab": {
      "name": "Untitled0.ipynb",
      "provenance": []
    },
    "kernelspec": {
      "name": "python3",
      "display_name": "Python 3"
    },
    "language_info": {
      "name": "python"
    },
    "accelerator": "GPU"
  },
  "cells": [
    {
      "cell_type": "code",
      "metadata": {
        "id": "gnATQzpibZUz"
      },
      "source": [
        "import torch\n",
        "import torch.nn as nn\n",
        "import torch.nn.functional as F\n",
        "from torch.utils.data import Dataset, DataLoader\n",
        "from torchvision import transforms, datasets\n",
        "from torch import optim\n",
        "from PIL import Image\n",
        "import numpy as np\n",
        "import random\n",
        "import os\n",
        "import math\n",
        "import pycm"
      ],
      "execution_count": 29,
      "outputs": []
    },
    {
      "cell_type": "code",
      "metadata": {
        "id": "p0kcq2CcbfBW"
      },
      "source": [
        "# configurations\n",
        "path = \"/content/wacv2016-master/dataset\"\n",
        "path_dest = \"/content/wacv2016-master/samples\"\n",
        "split = 0.8\n",
        "batch_size = 16"
      ],
      "execution_count": 30,
      "outputs": []
    },
    {
      "cell_type": "code",
      "metadata": {
        "id": "wjziryQxba_5"
      },
      "source": [
        "# DenseNet-121\n",
        "# in_channels = 1, n_classes = 3, input_shape = b * 1 * 100 * 100\n",
        "class BasicConv2d(nn.Module):\n",
        "    def __init__(self, ksize, inCH, outCH, stride=1, padding=0):\n",
        "        super(BasicConv2d, self).__init__()\n",
        "        self.bn = nn.BatchNorm2d(inCH)\n",
        "        self.conv2d = nn.Conv2d(kernel_size=ksize, in_channels=inCH,\n",
        "                         out_channels=outCH, stride=stride, padding=padding)\n",
        "\n",
        "    def forward(self, x):\n",
        "        x = self.bn(x)\n",
        "        x = F.relu(x)\n",
        "        x = self.conv2d(x)\n",
        "        return x\n",
        "\n",
        "\n",
        "class BottleNeck(nn.Module):\n",
        "    def __init__(self, inCH, k=32):\n",
        "        super(BottleNeck, self).__init__()\n",
        "        self.conv2d_1x1 = BasicConv2d(ksize=1, inCH=inCH, outCH=4*k)\n",
        "        self.conv2d_3x3 = BasicConv2d(ksize=3, inCH=4*k, outCH=k, padding=1)\n",
        "\n",
        "    def forward(self, x):\n",
        "        left = self.conv2d_1x1(x)\n",
        "        left = self.conv2d_3x3(left)\n",
        "        out = torch.cat([x, left], dim=1)\n",
        "        return out\n",
        "\n",
        "class DenseBlock(nn.Module):\n",
        "    def __init__(self, inCH, layernum=6, k=32):\n",
        "        super(DenseBlock, self).__init__()\n",
        "        self.layernum = layernum\n",
        "        self.k = k\n",
        "        self.inCH = inCH\n",
        "        self.outCH = inCH + k * layernum\n",
        "        self.block = self.make_layer(layernum)\n",
        "\n",
        "    def forward(self, x):\n",
        "        out = self.block(x)\n",
        "        return out\n",
        "\n",
        "    def make_layer(self, layernum):\n",
        "        layers = []\n",
        "        inchannels = self.inCH\n",
        "        for i in range(layernum):\n",
        "            layers.append(BottleNeck(inCH=inchannels, k=self.k))\n",
        "            inchannels += self.k\n",
        "        return nn.Sequential(*layers)\n",
        "\n",
        "\n",
        "class Transition(nn.Module):\n",
        "    def __init__(self, inCH, theta=0.5):\n",
        "        super(Transition, self).__init__()\n",
        "        self.outCH = int(math.floor(theta*inCH))\n",
        "        self.bn = nn.BatchNorm2d(inCH)\n",
        "        self.conv2d_1x1 = nn.Conv2d(kernel_size=1, in_channels=inCH, out_channels=self.outCH)\n",
        "        self.avgpool = nn.AvgPool2d((2, 2), stride=2)\n",
        "\n",
        "    def forward(self, x):\n",
        "        x = self.bn(x)\n",
        "        x = F.relu(x)\n",
        "        x = self.conv2d_1x1(x)\n",
        "        x = self.avgpool(x)\n",
        "        return x\n",
        "\n",
        "\n",
        "class DenseNet121(nn.Module):\n",
        "    def __init__(self, k=32, theta=0.5, classes=10):\n",
        "        super(DenseNet121 ,self).__init__()\n",
        "        self.k=k\n",
        "        self.theta = theta\n",
        "        self.pre_layer = BasicConv2d(ksize=3, inCH=1, outCH=2*self.k, padding=1)\n",
        "        self.DenseBlock_1 = DenseBlock(inCH=2*self.k, layernum=6, k=self.k)\n",
        "        self.Transition_1 = Transition(inCH=self.DenseBlock_1.outCH, theta=self.theta)\n",
        "        self.DenseBlock_2 = DenseBlock(inCH=self.Transition_1.outCH, layernum=12, k=self.k)\n",
        "        self.Transition_2 = Transition(inCH=self.DenseBlock_2.outCH, theta=self.theta)\n",
        "        self.DenseBlock_3 = DenseBlock(inCH=self.Transition_2.outCH, layernum=24, k=self.k)\n",
        "        self.Transition_3 = Transition(inCH=self.DenseBlock_3.outCH, theta=self.theta)\n",
        "        self.DenseBlock_4 = DenseBlock(inCH=self.Transition_3.outCH, layernum=16, k=self.k)\n",
        "        self.bn = nn.BatchNorm2d(self.DenseBlock_4.outCH)\n",
        "        self.avgpool = nn.AvgPool2d((4, 4))\n",
        "        self.linear = nn.Linear(self.DenseBlock_4.outCH*3*3, classes)\n",
        "\n",
        "    def forward(self, x):\n",
        "        x = self.pre_layer(x)\n",
        "        x = self.DenseBlock_1(x)\n",
        "        x = self.Transition_1(x)\n",
        "        x = self.DenseBlock_2(x)\n",
        "        x = self.Transition_2(x)\n",
        "        x = self.DenseBlock_3(x)\n",
        "        x = self.Transition_3(x)\n",
        "        x = self.DenseBlock_4(x)\n",
        "        x = self.bn(x)\n",
        "        x = F.relu(x)\n",
        "        x = self.avgpool(x)\n",
        "        x = x.view(-1, self.DenseBlock_4.outCH*3*3)\n",
        "        x = self.linear(x)\n",
        "        return x"
      ],
      "execution_count": 31,
      "outputs": []
    },
    {
      "cell_type": "code",
      "metadata": {
        "colab": {
          "base_uri": "https://localhost:8080/"
        },
        "id": "H0MRUiNmzpmg",
        "outputId": "a0968204-7467-4a6f-97f1-2bb35ad729f2"
      },
      "source": [
        "# generate samples\n",
        "os.mkdir(path_dest)\n",
        "file_num = []\n",
        "for i in range(1, 4):\n",
        "    j = 0\n",
        "    for file in os.listdir(os.path.join(path, str(i))):\n",
        "        img = Image.open(os.path.join(path, str(i), file))\n",
        "        if j < 412:\n",
        "            if img.size[0] == 100 and img.size[1] == 100 and len(img.size) == 2:\n",
        "                j += 1\n",
        "                img.save(os.path.join(path_dest, \"{}_{}.jpg\".format(i-1, j)))\n",
        "        else:\n",
        "            break\n",
        "    file_num.append(j)\n",
        "print(file_num)"
      ],
      "execution_count": 6,
      "outputs": [
        {
          "output_type": "stream",
          "text": [
            "[228, 412, 412]\n"
          ],
          "name": "stdout"
        }
      ]
    },
    {
      "cell_type": "code",
      "metadata": {
        "id": "rOuIuhHjjfJT"
      },
      "source": [
        "# dataset split\n",
        "file_list = os.listdir(path_dest)\n",
        "train_list = file_list[:int(split * len(file_list))]\n",
        "val_list = file_list[int(split * len(file_list)):]"
      ],
      "execution_count": 32,
      "outputs": []
    },
    {
      "cell_type": "code",
      "metadata": {
        "id": "1-hDScSmbiaF"
      },
      "source": [
        "# dataset class\n",
        "class WACV2016(Dataset):\n",
        "    def __init__(self, path, file_list):\n",
        "        super().__init__()\n",
        "        self.trans = transforms.Compose([\n",
        "            transforms.RandomHorizontalFlip(),\n",
        "            transforms.ToTensor()\n",
        "        ])\n",
        "        self.path = path\n",
        "        self.file_names = file_list\n",
        "\n",
        "    def __len__(self):\n",
        "        return len(self.file_names)\n",
        "\n",
        "    def __getitem__(self, index):\n",
        "        img = Image.open(os.path.join(self.path, self.file_names[index]))\n",
        "        label = int(self.file_names[index].split(\".\")[0].split(\"_\")[0])\n",
        "        return self.trans(img), label"
      ],
      "execution_count": 33,
      "outputs": []
    },
    {
      "cell_type": "code",
      "metadata": {
        "id": "pGnmUF3GblRa"
      },
      "source": [
        "# ...\n",
        "train_set = WACV2016(path_dest, train_list)\n",
        "train_loader = DataLoader(train_set, batch_size=batch_size, shuffle=True)\n",
        "val_set = WACV2016(path_dest, val_list)\n",
        "val_loader = DataLoader(val_set, batch_size=1, shuffle=False)\n",
        "\n",
        "model = DenseNet121(classes=3)\n",
        "model = model.cuda()\n",
        "citeration = nn.CrossEntropyLoss()\n",
        "optimizer = optim.Adam(model.parameters(), lr=1e-5)"
      ],
      "execution_count": 34,
      "outputs": []
    },
    {
      "cell_type": "code",
      "metadata": {
        "colab": {
          "base_uri": "https://localhost:8080/"
        },
        "id": "ctfVwgApboLl",
        "outputId": "a9c3c72b-c1b7-47aa-af4f-b07a1677b7fa"
      },
      "source": [
        "# training\n",
        "model.train()\n",
        "for epoch in range(10):\n",
        "    train_loss = 0\n",
        "    train_acc = 0\n",
        "    for i, (image, label) in enumerate(train_loader):\n",
        "        image, label = image.cuda(), label.cuda()\n",
        "        optimizer.zero_grad()\n",
        "        # forward\n",
        "        output = model(image)\n",
        "        loss = citeration(output, label.long())\n",
        "        pred = torch.torch.argmax(output, 1)\n",
        "        acc = (pred == label).sum() / batch_size\n",
        "        train_loss += loss.item()\n",
        "        train_acc += acc.cpu().numpy()\n",
        "        # backward\n",
        "        loss.backward()\n",
        "        optimizer.step()\n",
        "    print(\"Epoch: {}  Loss: {}  Acc: {}\".format(\n",
        "        epoch+1, train_loss/len(train_loader), train_acc/len(train_loader)))"
      ],
      "execution_count": 35,
      "outputs": [
        {
          "output_type": "stream",
          "text": [
            "Epoch: 1  Loss: 1.06207205327052  Acc: 0.4068396226415094\n",
            "Epoch: 2  Loss: 1.016757437643015  Acc: 0.45754716981132076\n",
            "Epoch: 3  Loss: 0.9808529874063888  Acc: 0.4858490566037736\n",
            "Epoch: 4  Loss: 0.965985248673637  Acc: 0.5530660377358491\n",
            "Epoch: 5  Loss: 0.9396732517008511  Acc: 0.5554245283018868\n",
            "Epoch: 6  Loss: 0.9346964966576055  Acc: 0.5554245283018868\n",
            "Epoch: 7  Loss: 0.9122457976611156  Acc: 0.5872641509433962\n",
            "Epoch: 8  Loss: 0.9023533677155117  Acc: 0.5801886792452831\n",
            "Epoch: 9  Loss: 0.8916796198431051  Acc: 0.6002358490566038\n",
            "Epoch: 10  Loss: 0.8666376910119686  Acc: 0.6202830188679245\n"
          ],
          "name": "stdout"
        }
      ]
    },
    {
      "cell_type": "code",
      "metadata": {
        "colab": {
          "base_uri": "https://localhost:8080/"
        },
        "id": "A3tAIOu_0LTK",
        "outputId": "e2dc7633-b798-4d6f-8c4d-688e2cad97c3"
      },
      "source": [
        "# validation\n",
        "model.eval()\n",
        "y_pred = []\n",
        "y_true = []\n",
        "for i, (image, label) in enumerate(val_loader):\n",
        "        image, label = image.cuda(), label.cuda()\n",
        "        # forward\n",
        "        output = model(image)\n",
        "        pred = torch.argmax(output, 1).unsqueeze(0)\n",
        "        y_pred.append(int(pred.cpu().numpy()))\n",
        "        y_true.append(int(label.unsqueeze(0).cpu().numpy()))\n",
        "print(y_pred)\n",
        "print(y_true)"
      ],
      "execution_count": 36,
      "outputs": [
        {
          "output_type": "stream",
          "text": [
            "[0, 1, 1, 0, 2, 2, 0, 2, 1, 2, 2, 2, 2, 2, 0, 0, 2, 1, 1, 0, 1, 0, 2, 1, 1, 1, 0, 0, 0, 1, 2, 1, 2, 0, 1, 1, 0, 1, 1, 2, 1, 2, 1, 0, 2, 2, 0, 1, 2, 1, 1, 2, 2, 1, 1, 1, 2, 1, 2, 2, 0, 2, 1, 2, 1, 2, 1, 2, 1, 2, 1, 2, 1, 2, 0, 2, 0, 0, 1, 2, 0, 1, 1, 2, 2, 2, 0, 1, 0, 1, 0, 2, 1, 1, 1, 2, 1, 1, 1, 1, 0, 1, 1, 1, 2, 2, 0, 1, 2, 1, 2, 0, 1, 1, 1, 2, 2, 1, 2, 0, 1, 2, 2, 2, 2, 0, 0, 1, 0, 1, 1, 2, 2, 0, 1, 0, 1, 1, 2, 2, 2, 1, 1, 2, 1, 2, 2, 2, 1, 1, 2, 2, 0, 2, 1, 1, 2, 0, 2, 0, 1, 2, 0, 2, 0, 2, 1, 1, 2, 2, 2, 0, 2, 1, 1, 2, 0, 2, 2, 1, 1, 0, 1, 1, 2, 2, 2, 2, 1, 1, 2, 1, 2, 2, 2, 2, 1, 2, 1, 2, 2, 1, 0, 1, 1, 2, 1, 1, 1, 2, 1]\n",
            "[0, 1, 2, 0, 1, 2, 0, 2, 2, 2, 1, 1, 1, 2, 0, 0, 1, 1, 2, 0, 1, 1, 0, 0, 1, 1, 2, 2, 1, 1, 1, 2, 2, 0, 2, 1, 2, 2, 2, 0, 1, 0, 0, 2, 2, 0, 0, 1, 1, 0, 1, 0, 2, 1, 1, 2, 1, 1, 2, 2, 0, 0, 1, 2, 2, 1, 1, 2, 1, 2, 1, 1, 1, 2, 2, 2, 1, 0, 2, 1, 0, 0, 1, 0, 1, 2, 0, 0, 1, 2, 0, 1, 1, 2, 2, 2, 2, 2, 1, 2, 0, 1, 0, 1, 1, 1, 0, 2, 1, 1, 2, 1, 1, 1, 2, 2, 2, 1, 0, 1, 1, 1, 2, 2, 2, 0, 0, 1, 0, 1, 1, 1, 2, 0, 0, 1, 0, 1, 2, 2, 2, 1, 1, 2, 1, 2, 2, 2, 2, 1, 2, 2, 0, 1, 1, 0, 1, 1, 1, 1, 1, 2, 0, 2, 1, 2, 0, 1, 2, 1, 2, 0, 2, 2, 1, 1, 0, 1, 2, 2, 1, 0, 0, 2, 2, 2, 2, 2, 2, 1, 1, 1, 2, 2, 2, 2, 2, 2, 1, 2, 2, 1, 2, 0, 1, 1, 1, 1, 1, 2, 1]\n"
          ],
          "name": "stdout"
        }
      ]
    },
    {
      "cell_type": "code",
      "metadata": {
        "id": "RSFt3-Wync2g"
      },
      "source": [
        "cm = pycm.ConfusionMatrix(y_true, y_pred, digit=5)"
      ],
      "execution_count": 37,
      "outputs": []
    },
    {
      "cell_type": "code",
      "metadata": {
        "colab": {
          "base_uri": "https://localhost:8080/"
        },
        "id": "-DGEuUgPnrT0",
        "outputId": "26571992-7fe7-4f76-ad87-d0e16a42f628"
      },
      "source": [
        "cm.ACC"
      ],
      "execution_count": 38,
      "outputs": [
        {
          "output_type": "execute_result",
          "data": {
            "text/plain": [
              "{0: 0.8293838862559242, 1: 0.6587677725118484, 2: 0.6966824644549763}"
            ]
          },
          "metadata": {
            "tags": []
          },
          "execution_count": 38
        }
      ]
    },
    {
      "cell_type": "code",
      "metadata": {
        "colab": {
          "base_uri": "https://localhost:8080/"
        },
        "id": "gEuJUofMns-6",
        "outputId": "c8f0f1ac-e50c-46cf-b05f-07c2d6e65a46"
      },
      "source": [
        "cm.GI"
      ],
      "execution_count": 39,
      "outputs": [
        {
          "output_type": "execute_result",
          "data": {
            "text/plain": [
              "{0: 0.4496461622210126, 1: 0.2933953488372092, 2: 0.36809116809116826}"
            ]
          },
          "metadata": {
            "tags": []
          },
          "execution_count": 39
        }
      ]
    },
    {
      "cell_type": "code",
      "metadata": {
        "id": "etvWAYdNnw6a",
        "colab": {
          "base_uri": "https://localhost:8080/"
        },
        "outputId": "c3464ca2-98cb-4141-d58d-81ebd00989cc"
      },
      "source": [
        "cm.AGF"
      ],
      "execution_count": 40,
      "outputs": [
        {
          "output_type": "execute_result",
          "data": {
            "text/plain": [
              "{0: 0.7020571120189314, 1: 0.6433921730733854, 2: 0.6870438018026194}"
            ]
          },
          "metadata": {
            "tags": []
          },
          "execution_count": 40
        }
      ]
    }
  ]
}